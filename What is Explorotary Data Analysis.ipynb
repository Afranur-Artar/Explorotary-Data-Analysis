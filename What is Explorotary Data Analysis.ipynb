{
 "cells": [
  {
   "cell_type": "markdown",
   "metadata": {},
   "source": [
    "# Soru 1:\n",
    "What is the purpose the data exploration?"
   ]
  },
  {
   "cell_type": "markdown",
   "metadata": {},
   "source": [
    "Veriyi keşfetmenin amacı, veriden anlamlı sonuçlar çıkarmak, varsayımlarda bulunduğumuz konuları kanıtlayacak analizler yapmaktır. Veri analizine başlamadan önce, çalışmayı hangi amaçla yaptığımız hangi hedefe ulaşmak için veriyi analiz etmek istiyorum sorularının cevabı veriyi keşfetmek için önemlidir. Hedefime ulaştıracak değişkenlerin belirlenmesi, analizlerin yapılması veri keşfini tanımlamaktadır. Veri keşfinden önce veri temizliği yapılarak düzgün doğru datalarla analize başlanmalıdır. "
   ]
  },
  {
   "cell_type": "markdown",
   "metadata": {},
   "source": [
    "# Soru 2:\n",
    "Suppose you are working on a dataset containing customer reviews of an e-commerce company's products. Customer reviews collected through the company's website are rated between 1 and 5 depending on whether the content is positive or negative.\n",
    "* What kind of problems do you expect to encounter in this raw data?\n",
    "* If your task is to identify the characteristics that reveal that the customers' comments are positive or negative, how would you do that and what methods would you use for this?\n",
    "* What are the useful features that can be extracted from raw data? How can you access this data and understand whether it is useful?"
   ]
  },
  {
   "cell_type": "markdown",
   "metadata": {},
   "source": [
    "* Veride karşılaşabileceğim sorunlar: müşterinin oylamamış olması yani kayıp değer olabilir\n",
    "* Beğenmek, sevmek, yakışmak.. gibi fiillerin -me -ma olumsuzluk önekleriyle kullanılması. Ama fakat, ancak gibi bağlaçların kullanılması.\n",
    "* Her müşteri kaç tane oylamayı cevaplamış, oylamayı cevaplayanlardan olumlu olanların yüzdesi, olumsuz olanların yüzdesi, oylama ürünlerin kategorilerine göre değişiyor mu yoksa tek bir alanda mı oylama yapılmış, eğer kategorilere göre değişiyorsa her bir kategorinin olumluluk oranları bulunabilir."
   ]
  },
  {
   "cell_type": "markdown",
   "metadata": {},
   "source": [
    "# Soru 3:\n",
    "Why do you think missing values should be taking care of?"
   ]
  },
  {
   "cell_type": "markdown",
   "metadata": {},
   "source": [
    "Kayıp veriler adı üstünde bir veri setinde null gelen alanlardır. Kayıp veriler bir veri setinde çok az olsa bile bu dataların ne olacağını tahmin edip doldurmamız gerekmektedir.Yapacağımız analizlerde eksik verilerin olmaması, tam data ile analiz yapmamız önem taşımaktadır. Kayıp verileri eğer data setinden silip kalan datalarla işlem yapılırsa belki de veri setini etkileyecek analize önemli katkı sağlayacak bilgileri kullanmamış oluruz. Bunun için genellikle kayıp değerler hakkında doğru tahmin yapmak için, o veriden önce gelen veri ile ya da sonra gelen veri ile doldururuz. Fonksiyon olarak da fillna()  ile interpret() kullanılmaktadır."
   ]
  },
  {
   "cell_type": "markdown",
   "metadata": {},
   "source": [
    "# Soru 4:\n",
    "Do you think that outliers have an impact on a dataset? If so, how would you explain this impact?"
   ]
  },
  {
   "cell_type": "markdown",
   "metadata": {},
   "source": [
    "Outliers yani aykırı değerler veri setine çok büyük etkide bulunur.Bir veri setinin ortalamasını aldığımızda bu ortalamanın çok uzağında olan veriler outliers olarak adlandıırlır ancak box plot çizdirdiğimde outliers olan bu verileri hemen silip kalan datalarla işlem yapmamam lazım; çünkü outliers dataların içinde de gerekli datalar olabilir o yüzden birden fazla kere sınır değerleri değiştiriip en doğru veri kümesi elde edilmeli.Ortalamanın çok uzağında olan datalar istatistiksel analizde sapmalara ya da yanlış yorumlama yapmamıza sebep olabileceğinden hangi datalarla çalışıp hangilerinin elenmesi gerektiği konusu önem taşımaktadır."
   ]
  },
  {
   "cell_type": "markdown",
   "metadata": {},
   "source": [
    "# Soru 5:\n",
    "Please briefly summarize you first actions when you start analyzing the data?"
   ]
  },
  {
   "cell_type": "markdown",
   "metadata": {},
   "source": [
    "Veri analizine başlamadan önce yapılması gereken ilk aşama veri temizliğidir.Bu aşama kayıp değerleirn tespit edilip uygun olanlarla doldurulması ya da aykırı değerlerin tespit edilip en uygun sayıdaki veri kümesinin netleştirilmesi, verilerin tipinin anlaşılmasıdır."
   ]
  }
 ],
 "metadata": {
  "kernelspec": {
   "display_name": "Python 3",
   "language": "python",
   "name": "python3"
  },
  "language_info": {
   "codemirror_mode": {
    "name": "ipython",
    "version": 3
   },
   "file_extension": ".py",
   "mimetype": "text/x-python",
   "name": "python",
   "nbconvert_exporter": "python",
   "pygments_lexer": "ipython3",
   "version": "3.7.3"
  }
 },
 "nbformat": 4,
 "nbformat_minor": 2
}
