{
 "cells": [
  {
   "cell_type": "markdown",
   "metadata": {},
   "source": [
    "# Soru 1:\n",
    "First of all, apply the most appropriate one of the techniques for completing the missing values in your previous lesson. In order to answer the following questions, you must overcome the missing data.\n",
    "\n",
    "1. Interpret the data by making univariate analysis and indicate the points you consider important."
   ]
  },
  {
   "cell_type": "code",
   "execution_count": 1,
   "metadata": {},
   "outputs": [],
   "source": [
    "import pandas as pd\n",
    "import numpy as np\n",
    "import matplotlib.pyplot as plt\n",
    "from scipy.stats import zscore \n",
    "from scipy.stats.mstats import winsorize\n",
    "import warnings\n",
    "warnings.filterwarnings(\"ignore\")"
   ]
  },
  {
   "cell_type": "code",
   "execution_count": null,
   "metadata": {},
   "outputs": [],
   "source": [
    "perf=pd.read_csv(\"StudentsPerformance.csv\")\n",
    "perf.head()\n",
    "perf.info()\n",
    "perf.isna().sum()\n",
    "\n",
    "# veri temizliğinde missing value'ların olup olmadığına bakmak için .info() ile kontrol edilir.\n",
    "# Veri seti 8 sütun 1000 satırdan oluşmaktadır ve her sütun da 1000 satır içermektedir. null değer yoktur."
   ]
  },
  {
   "cell_type": "code",
   "execution_count": null,
   "metadata": {},
   "outputs": [],
   "source": [
    "# Tek değişkenli analizde ilk yapılması gereken .describe() ile verilerin istatistiki bilgilerini incelemektir.\n",
    "print(perf.describe(include='all'))\n",
    "\n",
    "# Outliers değerlerin olup olmadığını öncelikle görselleştirme ile inceleyelim.\n",
    "plt.figure(figsize=(14,6),dpi=100)\n",
    "plt.subplot(1,3,1)\n",
    "plt.title(\"Math Score\")\n",
    "plt.boxplot(perf[\"math score\"])\n",
    "\n",
    "plt.subplot(1,3,2)\n",
    "plt.title(\"Reading Score\")\n",
    "plt.boxplot(perf[\"reading score\"])\n",
    "\n",
    "plt.subplot(1,3,3)\n",
    "plt.title(\"Writing Score\")\n",
    "plt.boxplot(perf[\"writing score\"])\n",
    "\n",
    "# Boxplot grafiğinden outliers değerlerin olduğu görülmektedir.\n",
    "plt.show()\n",
    "\n",
    "# Sayısal değişkenlere göre kaçar tane outliersın olduğunu öğrenmek için for döngüsü yazalım:\n",
    "zscores=zscore(perf[\"math score\"])\n",
    "for i in range(1,5):\n",
    "    print(\"Math score Threshold:\",i)\n",
    "    print(len((np.where(zscores>i)[0])))\n",
    "# Threshold değeri 3 olduğunda math,reading,writing score outliers değerleri sıfırlanmaktadır.\n",
    "\n",
    "\n",
    "# Aykırı değerleri sınırlandırmak/etkisini azaltmak için winsorize, log yöntemlerini kullanalım:\n",
    "plt.figure(figsize=(11,9),dpi=100)\n",
    "plt.subplot(2,3,1)\n",
    "plt.title(\"Winsorize Math Score\")\n",
    "plt.hist(winsorize(perf[\"math score\"], (0,0.10)))\n",
    "\n",
    "plt.subplot(2,3,2)\n",
    "plt.title(\"Winsorize Reading Score\")\n",
    "plt.hist(winsorize(perf[\"reading score\"], (0,0.10)))\n",
    "\n",
    "plt.subplot(2,3,3)\n",
    "plt.title(\"Winsorize Writing Score\")\n",
    "plt.hist(winsorize(perf[\"writing score\"], (0,0.10)))\n",
    "\n",
    "plt.subplot(2,3,4)\n",
    "plt.title(\"Logaritmic Math Score\")\n",
    "plt.hist(np.log(perf[\"math score\"]+1), color=\"g\")\n",
    "\n",
    "plt.subplot(2,3,5)\n",
    "plt.title(\"Logaritmic Reading Score\")\n",
    "plt.hist(np.log(perf[\"reading score\"]), color=\"g\")\n",
    "\n",
    "plt.subplot(2,3,6)\n",
    "plt.title(\"Logaritmic Writing Score\")\n",
    "plt.hist(np.log(perf[\"writing score\"]), color=\"g\")\n",
    "\n",
    "plt.show()\n",
    "\n",
    "# TEK DEĞİŞKENLİ ANALİZDE SÜREKLİ DEĞİŞKENLER GÖRSELLEŞTİRİLEREK LOGARİTMASI ALINAN DEĞİŞKENLERİN \n",
    "# NORMAL DAĞILIMA DAHA ÇOK YAKLAŞTIĞI BULUNMUŞTUR"
   ]
  },
  {
   "cell_type": "markdown",
   "metadata": {},
   "source": [
    "# Soru 2:\n",
    "Consider a state (eg California) and plot the yearly change of total revenues and total spending. Do these two variables change by years? Do you have years of summit and bottom?"
   ]
  },
  {
   "cell_type": "code",
   "execution_count": null,
   "metadata": {},
   "outputs": [],
   "source": [
    "df=pd.read_csv(\"states_all.csv\", index_col=0)\n",
    "df.head()\n",
    "\n",
    "# veri setinde kayıp değerler olduğu için öncelikle her değişken için medyanını fillna ile doldurdum.\n",
    "# Ardından yıl değişkeni sıralı olmadığı için plot grafiğinin düzgün çıkması için sıraladım.\n",
    "df.fillna(df.groupby(\"STATE\").transform(\"median\"), inplace=True)\n",
    "df_california=df[df[\"STATE\"]==\"CALIFORNIA\"].sort_values(\"YEAR\").reset_index()\n",
    "\n",
    "\n",
    "plt.figure(figsize=(6,4), dpi=100)\n",
    "plt.title(\"Plot of California \")\n",
    "plt.xlabel(\"YEARS\")\n",
    "plt.ylabel(\"Revenue & Expenditure\")\n",
    "plt.plot(df_california[\"YEAR\"],df_california[\"TOTAL_REVENUE\"], label=\"Revenue\")\n",
    "plt.plot(df_california[\"YEAR\"],df_california[\"TOTAL_EXPENDITURE\"], label=\"Expenditure\")\n",
    "plt.legend()\n",
    "\n",
    "plt.show()\n",
    "\n",
    "\n",
    "# Plot grafiğini yorumlarsak; yıllara göre gelir ve harcamalar birlikte artıp azalmaktadır.En yüksek\n",
    "# harcama 2015-2017 yılları arasında olmakla birlikte en düşük gelir ve harcama ise 1993-1995 arasında"
   ]
  },
  {
   "cell_type": "markdown",
   "metadata": {},
   "source": [
    "# Soru 3:\n",
    "In which course are students more successful in your chosen state? Mathematics or reading?"
   ]
  },
  {
   "cell_type": "code",
   "execution_count": null,
   "metadata": {},
   "outputs": [],
   "source": [
    "df=pd.read_csv(\"states_all.csv\", index_col=0).reset_index()\n",
    "\n",
    "df_california=df[df[\"STATE\"]==\"CALIFORNIA\"].sort_values(\"YEAR\").reset_index()\n",
    "df_california.head(10)\n",
    "\n",
    "\n",
    "# Bir ülkedeki hangi kursun öğrencilerinin daha başarılı olduğunu bulmak için öncelikle missing value lar doldurulmalı ardından\n",
    "# grafik çizdirilerek farkı gözlemlenmeli\n",
    "\n",
    "df_california[\"AVG_MATH_4_SCORE\"].fillna(df_california[\"AVG_MATH_4_SCORE\"].mean(),inplace=True)\n",
    "df_california[\"AVG_MATH_8_SCORE\"].fillna(df_california[\"AVG_MATH_8_SCORE\"].mean(),inplace=True)\n",
    "df_california[\"AVG_READING_4_SCORE\"].fillna(df_california[\"AVG_READING_4_SCORE\"].mean(),inplace=True)\n",
    "df_california[\"AVG_READING_8_SCORE\"].fillna(df_california[\"AVG_READING_8_SCORE\"].mean(),inplace=True)\n",
    "\n",
    "df_california.head()\n",
    "\n",
    "plt.figure(figsize=(7,4), dpi=100)\n",
    "\n",
    "plt.subplot(1,2,1)\n",
    "plt.xlabel(\"Avg Math Score\")\n",
    "plt.hist(winsorize(df_california[\"AVG_MATH_4_SCORE\"], (0,0.10)), color=\"pink\")\n",
    "\n",
    "plt.subplot(1,2,2)\n",
    "plt.xlabel(\"Avg Reading Score\")\n",
    "plt.hist(winsorize(df_california[\"AVG_READING_4_SCORE\"], (0,0.10)), color=\"yellow\")\n",
    "\n",
    "plt.show()\n",
    "\n",
    "# Matematik skorun başarısının reading den fazla olduğu görülmüştür."
   ]
  },
  {
   "cell_type": "markdown",
   "metadata": {},
   "source": [
    "# Soru 4:\n",
    "What is the distribution of mathematics and reading grades?"
   ]
  },
  {
   "cell_type": "markdown",
   "metadata": {},
   "source": [
    "Matematik kursunun dağılımı sola çarpıktır."
   ]
  },
  {
   "cell_type": "markdown",
   "metadata": {},
   "source": [
    "# Soru 5:\n",
    "You may have noticed that there are many missing values in the mathematics and reading notes. Complete the missing values with mean, median, and interpolation. Compare the impact of these techniques on the distribution of grades."
   ]
  },
  {
   "cell_type": "code",
   "execution_count": 17,
   "metadata": {},
   "outputs": [
    {
     "data": {
      "image/png": "[encoded data removed]",
      "text/plain": [
       "<Figure size 432x288 with 1 Axes>"
      ]
     },
     "metadata": {
      "needs_background": "light"
     },
     "output_type": "display_data"
    }
   ],
   "source": [
    "df=pd.read_csv(\"states_all.csv\", index_col=0).reset_index()\n",
    "\n",
    "sort_states=df.sort_values(\"YEAR\")\n",
    "\n",
    "\n",
    "sort_states.fillna(sort_states.groupby(\"STATE\").transform('median'),inplace=True)\n",
    "x=sort_states\n",
    "plt.hist(x[\"AVG_MATH_4_SCORE\"], bins=40)\n",
    "\n",
    "plt.show()\n"
   ]
  },
  {
   "cell_type": "code",
   "execution_count": 14,
   "metadata": {
    "scrolled": true
   },
   "outputs": [
    {
     "data": {
      "image/png": "[encoded data removed]",
      "text/plain": [
       "<Figure size 432x288 with 1 Axes>"
      ]
     },
     "metadata": {
      "needs_background": "light"
     },
     "output_type": "display_data"
    }
   ],
   "source": [
    "df=pd.read_csv(\"states_all.csv\", index_col=0).reset_index()\n",
    "\n",
    "sort_states=df.sort_values(\"YEAR\")\n",
    "sort_states.fillna(sort_states.groupby(\"STATE\").transform('mean'), inplace=True)\n",
    "\n",
    "plt.hist(sort_states[\"AVG_MATH_4_SCORE\"],bins=40, color=\"y\");"
   ]
  },
  {
   "cell_type": "code",
   "execution_count": 20,
   "metadata": {},
   "outputs": [
    {
     "data": {
      "image/png": "[encoded data removed]",
      "text/plain": [
       "<Figure size 600x400 with 2 Axes>"
      ]
     },
     "metadata": {
      "needs_background": "light"
     },
     "output_type": "display_data"
    }
   ],
   "source": [
    "df=pd.read_csv(\"states_all.csv\", index_col=0).reset_index()\n",
    "\n",
    "sort_states=df.sort_values(\"YEAR\")\n",
    "\n",
    "sort_states.interpolate(method='linear', limit_direction='forward', axis=0).head()\n",
    "\n",
    "plt.figure(figsize=(6,4),dpi=100)\n",
    "\n",
    "plt.subplot(1,2,1)\n",
    "plt.hist(sort_states[\"AVG_MATH_4_SCORE\"], bins=40, color=\"g\")\n",
    "\n",
    "plt.subplot(1,2,2)\n",
    "plt.boxplot(sort_states[\"AVG_MATH_4_SCORE\"].dropna());"
   ]
  },
  {
   "cell_type": "code",
   "execution_count": null,
   "metadata": {},
   "outputs": [],
   "source": []
  }
 ],
 "metadata": {
  "kernelspec": {
   "display_name": "Python 3",
   "language": "python",
   "name": "python3"
  },
  "language_info": {
   "codemirror_mode": {
    "name": "ipython",
    "version": 3
   },
   "file_extension": ".py",
   "mimetype": "text/x-python",
   "name": "python",
   "nbconvert_exporter": "python",
   "pygments_lexer": "ipython3",
   "version": "3.7.3"
  }
 },
 "nbformat": 4,
 "nbformat_minor": 2
}
