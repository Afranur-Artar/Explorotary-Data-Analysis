{
 "cells": [
  {
   "cell_type": "code",
   "execution_count": 2,
   "metadata": {},
   "outputs": [],
   "source": [
    "import pandas as pd\n",
    "import numpy as np\n",
    "import matplotlib.pyplot as plt\n",
    "import warnings"
   ]
  },
  {
   "cell_type": "markdown",
   "metadata": {},
   "source": [
    "# Soru 1:\n",
    "Determine the types of the below-given variables:\n",
    "\n",
    "* Age\n",
    "* Salary\n",
    "* Income\n",
    "* Customer type\n",
    "* Stock price"
   ]
  },
  {
   "cell_type": "markdown",
   "metadata": {},
   "source": [
    "* Age --> int64\n",
    "* Salary --> float64\n",
    "* Income --> float64\n",
    "* Customer type --> object\n",
    "* Stock price --> float64"
   ]
  },
  {
   "cell_type": "markdown",
   "metadata": {},
   "source": [
    "# Soru 2:\n",
    "Using the movie data, we have studied in this lesson. Complete the following tasks:\n",
    "\n",
    "* Select a variable from the movie dataset and discuss the variable type of this variable\n",
    "* Categorize a variable of your choice and assign a name to it\n",
    "* Count the number of rows for each category"
   ]
  },
  {
   "cell_type": "code",
   "execution_count": 6,
   "metadata": {},
   "outputs": [
    {
     "name": "stdout",
     "output_type": "stream",
     "text": [
      "country\n",
      "Philippines               7000.0\n",
      "Kenya                    15000.0\n",
      "Afghanistan              46000.0\n",
      "United Arab Emirates    125000.0\n",
      "Slovenia                500000.0\n",
      "Name: budget, dtype: float64 \n",
      "\n",
      "color                        5024\n",
      "director_name                4939\n",
      "num_critic_for_reviews       4993\n",
      "duration                     5028\n",
      "director_facebook_likes      4939\n",
      "actor_3_facebook_likes       5020\n",
      "actor_2_name                 5030\n",
      "actor_1_facebook_likes       5036\n",
      "gross                        4159\n",
      "genres                       5043\n",
      "actor_1_name                 5036\n",
      "movie_title                  5043\n",
      "num_voted_users              5043\n",
      "cast_total_facebook_likes    5043\n",
      "actor_3_name                 5020\n",
      "facenumber_in_poster         5031\n",
      "plot_keywords                4889\n",
      "movie_imdb_link              5043\n",
      "num_user_for_reviews         5022\n",
      "language                     5031\n",
      "country                      5038\n",
      "content_rating               4741\n",
      "budget                       4550\n",
      "title_year                   4935\n",
      "actor_2_facebook_likes       5030\n",
      "imdb_score                   5043\n",
      "aspect_ratio                 4714\n",
      "movie_facebook_likes         5043\n",
      "Unnamed: 28                     1\n",
      "dtype: int64\n"
     ]
    }
   ],
   "source": [
    "# movie datasetindenki 'country' değişkeninin veri tipi string olduğu için \n",
    "# object tir.\n",
    "\n",
    "#ülkelere göre ortalama bütçe hesaplaması yaparsak;\n",
    "movie=pd.read_csv(\"movie.csv\")\n",
    "print(movie.groupby('country')['budget'].mean().sort_values().head(),\"\\n\")\n",
    "\n",
    "#Her bir kolona göre satır sayısını bulursak;\n",
    "print(movie.count())\n",
    "    "
   ]
  },
  {
   "cell_type": "markdown",
   "metadata": {},
   "source": [
    "# Soru 3:\n",
    "Is it possible to convert categorical variable into numerical one? If so, how can you make that?"
   ]
  },
  {
   "cell_type": "markdown",
   "metadata": {},
   "source": [
    "Kategorik değişkenler numerik değişkenlere dönüştürülebilir. Bunun için mevcut veri setindeki işlem yapılacak olan kolon üzerinde döngü ya da koşullu ifadeler kullanılarak yeni bir kolon eklemesiyle numerik değişken tipli nitelik oluşturulabilir. Yani mevcuttaki kategorik değikenli kolonu ifade edecek numerik tipli yeni bir kolon yazılacak kodla sağlanılabilir."
   ]
  },
  {
   "cell_type": "markdown",
   "metadata": {},
   "source": [
    "# Soru 4:\n",
    "While continuous data is generally preferred over discrete data, please indicate circumstances where discrete is the preferred data type although continuous data is available for the same characteristic."
   ]
  },
  {
   "cell_type": "markdown",
   "metadata": {},
   "source": [
    "* Sınıfa geç gelen öğrencilerin sayısı\n",
    "* Gün içinde şubede banka hesabı açtıran müşteri sayısı \n",
    "\n",
    "gibi konularda kesikli değişkenler kullanılmaktadır. Kesikli değişken ile sürekli değişken arasındaki temel fark, belli bir aralıkta sınırlı/sonlu sayıda değişken alabilen değerlerdir."
   ]
  },
  {
   "cell_type": "markdown",
   "metadata": {},
   "source": [
    "# Soru 5:\n",
    "While continuous data is measured and attribute data is counted, there is sometimes confusion if some specific dataset should be considered continuous or attribute. Provide some examples of confusing datasets and your inference."
   ]
  },
  {
   "cell_type": "markdown",
   "metadata": {},
   "source": [
    "Bir veri setindeki kolonlara attribute denilmektedir.Bu attributelerde continuous ya da kesikli değişkenler bulunabilmektedir. Öznitelikler aslında sürekli ve kesikli değişken tiplerini içine kapsamaktadır."
   ]
  }
 ],
 "metadata": {
  "kernelspec": {
   "display_name": "Python 3",
   "language": "python",
   "name": "python3"
  },
  "language_info": {
   "codemirror_mode": {
    "name": "ipython",
    "version": 3
   },
   "file_extension": ".py",
   "mimetype": "text/x-python",
   "name": "python",
   "nbconvert_exporter": "python",
   "pygments_lexer": "ipython3",
   "version": "3.7.3"
  }
 },
 "nbformat": 4,
 "nbformat_minor": 2
}
